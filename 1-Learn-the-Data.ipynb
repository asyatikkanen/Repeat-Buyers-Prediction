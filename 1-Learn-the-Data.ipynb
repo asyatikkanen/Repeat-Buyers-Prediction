{
 "cells": [
  {
   "cell_type": "markdown",
   "metadata": {},
   "source": [
    "Learn what the data is like."
   ]
  },
  {
   "cell_type": "markdown",
   "metadata": {},
   "source": [
    "12-31-2017"
   ]
  },
  {
   "cell_type": "markdown",
   "metadata": {},
   "source": [
    "01-03-2018. I should save index for user info"
   ]
  },
  {
   "cell_type": "markdown",
   "metadata": {},
   "source": [
    "---"
   ]
  },
  {
   "cell_type": "code",
   "execution_count": 1,
   "metadata": {
    "ExecuteTime": {
     "end_time": "2018-01-03T03:47:27.187999Z",
     "start_time": "2018-01-03T03:47:26.626402Z"
    }
   },
   "outputs": [],
   "source": [
    "import pandas as pd"
   ]
  },
  {
   "cell_type": "markdown",
   "metadata": {},
   "source": [
    "---"
   ]
  },
  {
   "cell_type": "markdown",
   "metadata": {},
   "source": [
    "#### User info"
   ]
  },
  {
   "cell_type": "code",
   "execution_count": 2,
   "metadata": {
    "ExecuteTime": {
     "end_time": "2018-01-03T03:47:28.240883Z",
     "start_time": "2018-01-03T03:47:27.458275Z"
    }
   },
   "outputs": [
    {
     "data": {
      "text/html": [
       "<div>\n",
       "<style scoped>\n",
       "    .dataframe tbody tr th:only-of-type {\n",
       "        vertical-align: middle;\n",
       "    }\n",
       "\n",
       "    .dataframe tbody tr th {\n",
       "        vertical-align: top;\n",
       "    }\n",
       "\n",
       "    .dataframe thead th {\n",
       "        text-align: right;\n",
       "    }\n",
       "</style>\n",
       "<table border=\"1\" class=\"dataframe\">\n",
       "  <thead>\n",
       "    <tr style=\"text-align: right;\">\n",
       "      <th></th>\n",
       "      <th>age_range</th>\n",
       "      <th>gender</th>\n",
       "    </tr>\n",
       "    <tr>\n",
       "      <th>user_id</th>\n",
       "      <th></th>\n",
       "      <th></th>\n",
       "    </tr>\n",
       "  </thead>\n",
       "  <tbody>\n",
       "    <tr>\n",
       "      <th>376517</th>\n",
       "      <td>6</td>\n",
       "      <td>1</td>\n",
       "    </tr>\n",
       "    <tr>\n",
       "      <th>234512</th>\n",
       "      <td>5</td>\n",
       "      <td>0</td>\n",
       "    </tr>\n",
       "  </tbody>\n",
       "</table>\n",
       "</div>"
      ],
      "text/plain": [
       "        age_range gender\n",
       "user_id                 \n",
       "376517          6      1\n",
       "234512          5      0"
      ]
     },
     "execution_count": 2,
     "metadata": {},
     "output_type": "execute_result"
    }
   ],
   "source": [
    "user_info_df = pd.read_csv('./data/data_format1/user_info_format1.csv', dtype=str,\n",
    "                           index_col=0)\n",
    "user_info_df.head(2)"
   ]
  },
  {
   "cell_type": "code",
   "execution_count": 3,
   "metadata": {
    "ExecuteTime": {
     "end_time": "2018-01-03T03:47:28.755757Z",
     "start_time": "2018-01-03T03:47:28.751355Z"
    }
   },
   "outputs": [
    {
     "data": {
      "text/plain": [
       "(424170, 2)"
      ]
     },
     "execution_count": 3,
     "metadata": {},
     "output_type": "execute_result"
    }
   ],
   "source": [
    "user_info_df.shape"
   ]
  },
  {
   "cell_type": "code",
   "execution_count": 4,
   "metadata": {
    "ExecuteTime": {
     "end_time": "2018-01-03T03:47:29.051895Z",
     "start_time": "2018-01-03T03:47:28.976069Z"
    }
   },
   "outputs": [
    {
     "data": {
      "text/plain": [
       "age_range    0.005227\n",
       "gender       0.015173\n",
       "dtype: float64"
      ]
     },
     "execution_count": 4,
     "metadata": {},
     "output_type": "execute_result"
    }
   ],
   "source": [
    "user_info_df.isnull().sum()/user_info_df.shape[0]"
   ]
  },
  {
   "cell_type": "markdown",
   "metadata": {},
   "source": [
    "##### Train/test pairs"
   ]
  },
  {
   "cell_type": "code",
   "execution_count": 5,
   "metadata": {
    "ExecuteTime": {
     "end_time": "2018-01-03T03:47:30.112416Z",
     "start_time": "2018-01-03T03:47:29.965260Z"
    }
   },
   "outputs": [
    {
     "data": {
      "text/plain": [
       "(212062,)"
      ]
     },
     "execution_count": 5,
     "metadata": {},
     "output_type": "execute_result"
    }
   ],
   "source": [
    "train_user_arr = pd.read_csv('./data/data_format1/train_format1.csv', usecols=[0], squeeze=True).unique()\n",
    "train_user_arr.shape"
   ]
  },
  {
   "cell_type": "code",
   "execution_count": 6,
   "metadata": {
    "ExecuteTime": {
     "end_time": "2018-01-03T03:47:30.380667Z",
     "start_time": "2018-01-03T03:47:30.207407Z"
    }
   },
   "outputs": [
    {
     "data": {
      "text/plain": [
       "(212108,)"
      ]
     },
     "execution_count": 6,
     "metadata": {},
     "output_type": "execute_result"
    }
   ],
   "source": [
    "test_user_arr = pd.read_csv('./data/data_format1/test_format1.csv', usecols=[0], squeeze=True).unique()\n",
    "test_user_arr.shape"
   ]
  },
  {
   "cell_type": "markdown",
   "metadata": {},
   "source": [
    "##### Missing values"
   ]
  },
  {
   "cell_type": "code",
   "execution_count": 7,
   "metadata": {
    "ExecuteTime": {
     "end_time": "2018-01-03T03:47:30.776585Z",
     "start_time": "2018-01-03T03:47:30.741706Z"
    }
   },
   "outputs": [
    {
     "data": {
      "text/plain": [
       "(2217, 0.005226677982884221)"
      ]
     },
     "execution_count": 7,
     "metadata": {},
     "output_type": "execute_result"
    }
   ],
   "source": [
    "user_wo_age = user_info_df.index[user_info_df.age_range.isnull()].values\n",
    "user_wo_age.size, user_wo_age.size / user_info_df.shape[0]"
   ]
  },
  {
   "cell_type": "code",
   "execution_count": 8,
   "metadata": {
    "ExecuteTime": {
     "end_time": "2018-01-03T03:47:31.008183Z",
     "start_time": "2018-01-03T03:47:30.979246Z"
    }
   },
   "outputs": [
    {
     "data": {
      "text/plain": [
       "0.01517316170403376"
      ]
     },
     "execution_count": 8,
     "metadata": {},
     "output_type": "execute_result"
    }
   ],
   "source": [
    "user_wo_gender = user_info_df.index[user_info_df.gender.isnull()].values\n",
    "user_wo_gender.size / user_info_df.shape[0]"
   ]
  },
  {
   "cell_type": "markdown",
   "metadata": {},
   "source": [
    "How many of them are in train/test?"
   ]
  },
  {
   "cell_type": "code",
   "execution_count": 9,
   "metadata": {
    "ExecuteTime": {
     "end_time": "2018-01-03T03:47:31.517074Z",
     "start_time": "2018-01-03T03:47:31.458562Z"
    }
   },
   "outputs": [
    {
     "data": {
      "text/plain": [
       "(1081, 1136)"
      ]
     },
     "execution_count": 9,
     "metadata": {},
     "output_type": "execute_result"
    }
   ],
   "source": [
    "pd.np.intersect1d(user_wo_age, train_user_arr).size, pd.np.intersect1d(user_wo_age, test_user_arr).size"
   ]
  },
  {
   "cell_type": "code",
   "execution_count": 10,
   "metadata": {
    "ExecuteTime": {
     "end_time": "2018-01-03T03:47:31.804393Z",
     "start_time": "2018-01-03T03:47:31.737885Z"
    }
   },
   "outputs": [
    {
     "data": {
      "text/plain": [
       "(3177, 3259)"
      ]
     },
     "execution_count": 10,
     "metadata": {},
     "output_type": "execute_result"
    }
   ],
   "source": [
    "pd.np.intersect1d(user_wo_gender, train_user_arr).size, pd.np.intersect1d(user_wo_gender, test_user_arr).size"
   ]
  },
  {
   "cell_type": "markdown",
   "metadata": {},
   "source": [
    "##### Create a new category for missing val"
   ]
  },
  {
   "cell_type": "markdown",
   "metadata": {},
   "source": [
    "For both of them, let's fill value"
   ]
  },
  {
   "cell_type": "markdown",
   "metadata": {},
   "source": [
    "###### Age"
   ]
  },
  {
   "cell_type": "markdown",
   "metadata": {},
   "source": [
    "0 is already for unknown"
   ]
  },
  {
   "cell_type": "code",
   "execution_count": 11,
   "metadata": {
    "ExecuteTime": {
     "end_time": "2018-01-03T03:47:33.052752Z",
     "start_time": "2018-01-03T03:47:32.962883Z"
    }
   },
   "outputs": [
    {
     "data": {
      "text/plain": [
       "0     92914\n",
       "1        24\n",
       "2     52871\n",
       "3    111654\n",
       "4     79991\n",
       "5     40777\n",
       "6     35464\n",
       "7      6992\n",
       "8      1266\n",
       "Name: age_range, dtype: int64"
      ]
     },
     "execution_count": 11,
     "metadata": {},
     "output_type": "execute_result"
    }
   ],
   "source": [
    "user_info_df.age_range.value_counts().sort_index()"
   ]
  },
  {
   "cell_type": "code",
   "execution_count": 12,
   "metadata": {
    "ExecuteTime": {
     "end_time": "2018-01-03T03:47:33.347679Z",
     "start_time": "2018-01-03T03:47:33.204432Z"
    }
   },
   "outputs": [
    {
     "data": {
      "text/plain": [
       "0     95131\n",
       "1        24\n",
       "2     52871\n",
       "3    111654\n",
       "4     79991\n",
       "5     40777\n",
       "6     35464\n",
       "7      6992\n",
       "8      1266\n",
       "Name: age_range, dtype: int64"
      ]
     },
     "execution_count": 12,
     "metadata": {},
     "output_type": "execute_result"
    }
   ],
   "source": [
    "user_info_df.age_range[user_info_df.age_range.isnull()] = '0'\n",
    "user_info_df.age_range.value_counts().sort_index()"
   ]
  },
  {
   "cell_type": "markdown",
   "metadata": {},
   "source": [
    "###### Gender"
   ]
  },
  {
   "cell_type": "markdown",
   "metadata": {},
   "source": [
    "2 is already for unknown"
   ]
  },
  {
   "cell_type": "code",
   "execution_count": 13,
   "metadata": {
    "ExecuteTime": {
     "end_time": "2018-01-03T03:47:34.134667Z",
     "start_time": "2018-01-03T03:47:34.055456Z"
    }
   },
   "outputs": [
    {
     "data": {
      "text/plain": [
       "0    285638\n",
       "1    121670\n",
       "2     10426\n",
       "Name: gender, dtype: int64"
      ]
     },
     "execution_count": 13,
     "metadata": {},
     "output_type": "execute_result"
    }
   ],
   "source": [
    "user_info_df.gender.value_counts()"
   ]
  },
  {
   "cell_type": "code",
   "execution_count": 14,
   "metadata": {
    "ExecuteTime": {
     "end_time": "2018-01-03T03:47:34.459364Z",
     "start_time": "2018-01-03T03:47:34.350658Z"
    }
   },
   "outputs": [
    {
     "data": {
      "text/plain": [
       "0    285638\n",
       "1    121670\n",
       "2     16862\n",
       "Name: gender, dtype: int64"
      ]
     },
     "execution_count": 14,
     "metadata": {},
     "output_type": "execute_result"
    }
   ],
   "source": [
    "user_info_df.gender[user_info_df.gender.isnull()] = '2'\n",
    "user_info_df.gender.value_counts()"
   ]
  },
  {
   "cell_type": "markdown",
   "metadata": {},
   "source": [
    "##### Save"
   ]
  },
  {
   "cell_type": "code",
   "execution_count": 15,
   "metadata": {
    "ExecuteTime": {
     "end_time": "2018-01-03T03:47:37.699407Z",
     "start_time": "2018-01-03T03:47:37.078680Z"
    }
   },
   "outputs": [],
   "source": [
    "user_info_df.to_csv('./processes_data/user-info-df-12312017.csv')"
   ]
  },
  {
   "cell_type": "markdown",
   "metadata": {},
   "source": [
    "---"
   ]
  },
  {
   "cell_type": "markdown",
   "metadata": {},
   "source": [
    "#### User log"
   ]
  },
  {
   "cell_type": "code",
   "execution_count": 59,
   "metadata": {
    "ExecuteTime": {
     "end_time": "2017-12-31T04:41:27.967190Z",
     "start_time": "2017-12-31T04:40:32.840923Z"
    }
   },
   "outputs": [],
   "source": [
    "user_log_df = pd.read_csv('./data/data_format1/user_log_format1.csv')"
   ]
  },
  {
   "cell_type": "code",
   "execution_count": 62,
   "metadata": {
    "ExecuteTime": {
     "end_time": "2017-12-31T04:42:13.231319Z",
     "start_time": "2017-12-31T04:42:13.224442Z"
    }
   },
   "outputs": [
    {
     "data": {
      "text/plain": [
       "(54925330, 7)"
      ]
     },
     "execution_count": 62,
     "metadata": {},
     "output_type": "execute_result"
    }
   ],
   "source": [
    "user_log_df.shape"
   ]
  },
  {
   "cell_type": "code",
   "execution_count": 60,
   "metadata": {
    "ExecuteTime": {
     "end_time": "2017-12-31T04:41:27.999901Z",
     "start_time": "2017-12-31T04:41:27.970947Z"
    }
   },
   "outputs": [
    {
     "data": {
      "text/plain": [
       "user_id          int64\n",
       "item_id          int64\n",
       "cat_id           int64\n",
       "seller_id        int64\n",
       "brand_id       float64\n",
       "time_stamp       int64\n",
       "action_type      int64\n",
       "dtype: object"
      ]
     },
     "execution_count": 60,
     "metadata": {},
     "output_type": "execute_result"
    }
   ],
   "source": [
    "user_log_df.dtypes"
   ]
  },
  {
   "cell_type": "code",
   "execution_count": 63,
   "metadata": {
    "ExecuteTime": {
     "end_time": "2017-12-31T13:46:52.898917Z",
     "start_time": "2017-12-31T13:46:36.948648Z"
    }
   },
   "outputs": [
    {
     "data": {
      "text/plain": [
       "user_id            0\n",
       "item_id            0\n",
       "cat_id             0\n",
       "seller_id          0\n",
       "brand_id       91015\n",
       "time_stamp         0\n",
       "action_type        0\n",
       "dtype: int64"
      ]
     },
     "execution_count": 63,
     "metadata": {},
     "output_type": "execute_result"
    }
   ],
   "source": [
    "user_log_df.isnull().sum()"
   ]
  },
  {
   "cell_type": "markdown",
   "metadata": {},
   "source": [
    "Seems like there's nothing to save."
   ]
  }
 ],
 "metadata": {
  "kernelspec": {
   "display_name": "Python 3",
   "language": "python",
   "name": "python3"
  },
  "language_info": {
   "codemirror_mode": {
    "name": "ipython",
    "version": 3
   },
   "file_extension": ".py",
   "mimetype": "text/x-python",
   "name": "python",
   "nbconvert_exporter": "python",
   "pygments_lexer": "ipython3",
   "version": "3.6.3"
  },
  "toc": {
   "nav_menu": {},
   "number_sections": true,
   "sideBar": true,
   "skip_h1_title": false,
   "toc_cell": false,
   "toc_position": {},
   "toc_section_display": "block",
   "toc_window_display": true
  }
 },
 "nbformat": 4,
 "nbformat_minor": 2
}
